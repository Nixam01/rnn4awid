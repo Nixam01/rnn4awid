{
 "cells": [
  {
   "cell_type": "code",
   "execution_count": 1,
   "id": "a60cfac4-f128-4eaa-8f77-bb19591e53c0",
   "metadata": {},
   "outputs": [],
   "source": [
    "import numpy as np"
   ]
  },
  {
   "cell_type": "code",
   "execution_count": 4,
   "id": "7c104ceb-9cf0-49f2-a520-e173f7fb5973",
   "metadata": {},
   "outputs": [],
   "source": [
    "def softmax_func(normalized):\n",
    "    raised = np.exp(normalized)\n",
    "    output = raised / np.sum(raised, axis=1).reshape(-1,1)\n",
    "    return output"
   ]
  },
  {
   "cell_type": "code",
   "execution_count": 5,
   "id": "b1a1974c-4cc9-4e7a-8c53-d6df785d2c64",
   "metadata": {},
   "outputs": [],
   "source": [
    "x = np.random.rand(5, 3)"
   ]
  },
  {
   "cell_type": "code",
   "execution_count": 6,
   "id": "b1700fe4-721d-40c5-866a-9d12201db456",
   "metadata": {},
   "outputs": [],
   "source": [
    "y = np.zeros_like(x)"
   ]
  },
  {
   "cell_type": "code",
   "execution_count": 7,
   "id": "c9b2cd23-e302-4a77-bbd2-7fcfa5ed6e4e",
   "metadata": {},
   "outputs": [],
   "source": [
    "inds = (np.arange(0, y.shape[0]), np.random.randint(0, 3, size=y.shape[0]))"
   ]
  },
  {
   "cell_type": "code",
   "execution_count": 8,
   "id": "0b0e3def-8a09-4f84-9b41-0eb24a269403",
   "metadata": {},
   "outputs": [],
   "source": [
    "y[inds] = 1"
   ]
  },
  {
   "cell_type": "code",
   "execution_count": 9,
   "id": "6969ecf9-7ffa-4022-afb2-42a3e80fe628",
   "metadata": {},
   "outputs": [
    {
     "data": {
      "text/plain": [
       "array([[0.5575675 , 0.06304497, 0.49941283],\n",
       "       [0.38466069, 0.35641535, 0.94931915],\n",
       "       [0.91027628, 0.87025495, 0.00973031],\n",
       "       [0.41708155, 0.91012695, 0.32481429],\n",
       "       [0.15977601, 0.69847477, 0.65631298]])"
      ]
     },
     "execution_count": 9,
     "metadata": {},
     "output_type": "execute_result"
    }
   ],
   "source": [
    "x"
   ]
  },
  {
   "cell_type": "code",
   "execution_count": 10,
   "id": "ec9d660d-6078-47f2-8314-fd737c2bfd34",
   "metadata": {},
   "outputs": [
    {
     "data": {
      "text/plain": [
       "array([[1., 0., 0.],\n",
       "       [1., 0., 0.],\n",
       "       [0., 1., 0.],\n",
       "       [0., 1., 0.],\n",
       "       [0., 1., 0.]])"
      ]
     },
     "execution_count": 10,
     "metadata": {},
     "output_type": "execute_result"
    }
   ],
   "source": [
    "y"
   ]
  },
  {
   "cell_type": "code",
   "execution_count": 11,
   "id": "f7a5f14e-c4fe-409d-b577-dd257c2b0e4d",
   "metadata": {},
   "outputs": [],
   "source": [
    "normalized = x - np.max(x, axis=-1).reshape(-1,1)"
   ]
  },
  {
   "cell_type": "code",
   "execution_count": 12,
   "id": "e855eab4-7846-4084-8919-2268e0f6c824",
   "metadata": {},
   "outputs": [
    {
     "data": {
      "text/plain": [
       "array([[ 0.        , -0.49452252, -0.05815467],\n",
       "       [-0.56465847, -0.5929038 ,  0.        ],\n",
       "       [ 0.        , -0.04002133, -0.90054597],\n",
       "       [-0.4930454 ,  0.        , -0.58531266],\n",
       "       [-0.53869876,  0.        , -0.04216179]])"
      ]
     },
     "execution_count": 12,
     "metadata": {},
     "output_type": "execute_result"
    }
   ],
   "source": [
    "normalized"
   ]
  },
  {
   "cell_type": "code",
   "execution_count": 13,
   "id": "c0301c21-c76f-457d-be13-4221a7cb7e2c",
   "metadata": {},
   "outputs": [
    {
     "data": {
      "text/plain": [
       "array([[0.39163989, 0.2388463 , 0.36951381],\n",
       "       [0.26802489, 0.26056035, 0.47141476],\n",
       "       [0.42245488, 0.40588153, 0.17166359],\n",
       "       [0.28175711, 0.46131946, 0.25692343],\n",
       "       [0.22952642, 0.39335672, 0.37711686]])"
      ]
     },
     "execution_count": 13,
     "metadata": {},
     "output_type": "execute_result"
    }
   ],
   "source": [
    "softmax_func(normalized)"
   ]
  },
  {
   "cell_type": "markdown",
   "id": "12c47e55-6d2c-4801-afce-e6456b9ec5ef",
   "metadata": {},
   "source": [
    "staged softmax"
   ]
  },
  {
   "cell_type": "code",
   "execution_count": 14,
   "id": "27801250-e2b0-405d-bc8a-b7efe199c127",
   "metadata": {},
   "outputs": [
    {
     "data": {
      "text/plain": [
       "1.25"
      ]
     },
     "execution_count": 14,
     "metadata": {},
     "output_type": "execute_result"
    }
   ],
   "source": [
    "5/4"
   ]
  },
  {
   "cell_type": "code",
   "execution_count": 15,
   "id": "963c9a22-55d8-48d3-84b8-3aca3b29db90",
   "metadata": {},
   "outputs": [
    {
     "data": {
      "text/plain": [
       "0.25"
      ]
     },
     "execution_count": 15,
     "metadata": {},
     "output_type": "execute_result"
    }
   ],
   "source": [
    "4**-1"
   ]
  },
  {
   "cell_type": "code",
   "execution_count": 16,
   "id": "dccbf973-815c-4f51-a63c-50bf32111010",
   "metadata": {},
   "outputs": [],
   "source": [
    "raised = np.exp(x) # step 1"
   ]
  },
  {
   "cell_type": "code",
   "execution_count": 17,
   "id": "1f04337d-0a8c-41d0-9457-0a047838899c",
   "metadata": {},
   "outputs": [],
   "source": [
    "summed = np.sum(raised, axis=-1).reshape(-1,1) # step 2."
   ]
  },
  {
   "cell_type": "code",
   "execution_count": 18,
   "id": "c74c4ff8-f8f8-45ad-a628-4025a8541692",
   "metadata": {},
   "outputs": [],
   "source": [
    "pow = summed ** -1\n",
    "staged_softmax = raised * pow"
   ]
  },
  {
   "cell_type": "code",
   "execution_count": 19,
   "id": "56a1661b-c89c-47f3-a0e8-c17ba81757bf",
   "metadata": {},
   "outputs": [
    {
     "data": {
      "text/plain": [
       "array([[0.39163989, 0.2388463 , 0.36951381],\n",
       "       [0.26802489, 0.26056035, 0.47141476],\n",
       "       [0.42245488, 0.40588153, 0.17166359],\n",
       "       [0.28175711, 0.46131946, 0.25692343],\n",
       "       [0.22952642, 0.39335672, 0.37711686]])"
      ]
     },
     "execution_count": 19,
     "metadata": {},
     "output_type": "execute_result"
    }
   ],
   "source": [
    "staged_softmax"
   ]
  },
  {
   "cell_type": "code",
   "execution_count": 20,
   "id": "ad6b968a-4456-4419-9270-a1440687883d",
   "metadata": {},
   "outputs": [
    {
     "data": {
      "text/plain": [
       "array([[1.74641916, 1.06507474, 1.64775347],\n",
       "       [1.46911574, 1.42820063, 2.58394979],\n",
       "       [2.485009  , 2.38751947, 1.00977781],\n",
       "       [1.51752626, 2.48463794, 1.38377364],\n",
       "       [1.17324805, 2.01068362, 1.92767186]])"
      ]
     },
     "execution_count": 20,
     "metadata": {},
     "output_type": "execute_result"
    }
   ],
   "source": [
    "raised"
   ]
  },
  {
   "cell_type": "code",
   "execution_count": 22,
   "id": "444d35b3-08d4-457b-9933-5cbc9b2351aa",
   "metadata": {},
   "outputs": [],
   "source": [
    "def nll_grad(y, pred):\n",
    "    return -1 * y / pred\n",
    "\n",
    "loss_grad = nll_grad(y, staged_softmax)"
   ]
  },
  {
   "cell_type": "code",
   "execution_count": 26,
   "id": "842df481-d522-4afb-8fdf-39c7071b8cd2",
   "metadata": {},
   "outputs": [
    {
     "data": {
      "text/plain": [
       "array([[-2.55336604, -0.        , -0.        ],\n",
       "       [-3.73099682, -0.        , -0.        ],\n",
       "       [-0.        , -2.46377311, -0.        ],\n",
       "       [-0.        , -2.16769524, -0.        ],\n",
       "       [-0.        , -2.5422217 , -0.        ]])"
      ]
     },
     "execution_count": 26,
     "metadata": {},
     "output_type": "execute_result"
    }
   ],
   "source": [
    "loss_grad"
   ]
  },
  {
   "cell_type": "code",
   "execution_count": 28,
   "id": "e85108d6-814c-4864-881c-4c8b3b0784ac",
   "metadata": {},
   "outputs": [
    {
     "ename": "ModuleNotFoundError",
     "evalue": "No module named 'graph'",
     "output_type": "error",
     "traceback": [
      "\u001b[1;31m---------------------------------------------------------------------------\u001b[0m",
      "\u001b[1;31mModuleNotFoundError\u001b[0m                       Traceback (most recent call last)",
      "Cell \u001b[1;32mIn[28], line 3\u001b[0m\n\u001b[0;32m      1\u001b[0m \u001b[38;5;28;01mimport\u001b[39;00m \u001b[38;5;21;01msys\u001b[39;00m\u001b[38;5;241m,\u001b[39m \u001b[38;5;21;01mos\u001b[39;00m\n\u001b[0;32m      2\u001b[0m sys\u001b[38;5;241m.\u001b[39mpath\u001b[38;5;241m.\u001b[39mappend(os\u001b[38;5;241m.\u001b[39mpath\u001b[38;5;241m.\u001b[39mabspath(\u001b[38;5;124m\"\u001b[39m\u001b[38;5;124m../nnets\u001b[39m\u001b[38;5;124m\"\u001b[39m))\n\u001b[1;32m----> 3\u001b[0m \u001b[38;5;28;01mfrom\u001b[39;00m \u001b[38;5;21;01mgraph\u001b[39;00m \u001b[38;5;28;01mimport\u001b[39;00m Node, Parameter, display_chain\n",
      "\u001b[1;31mModuleNotFoundError\u001b[0m: No module named 'graph'"
     ]
    }
   ],
   "source": [
    "import sys, os\n",
    "sys.path.append(os.path.abspath(\"../nnets\"))\n",
    "from graph import Node, Parameter, display_chain"
   ]
  },
  {
   "cell_type": "code",
   "execution_count": 33,
   "id": "41e75672-8e00-403e-ac9f-5645b1eb26c3",
   "metadata": {},
   "outputs": [
    {
     "ename": "NameError",
     "evalue": "name 'Node' is not defined",
     "output_type": "error",
     "traceback": [
      "\u001b[1;31m---------------------------------------------------------------------------\u001b[0m",
      "\u001b[1;31mNameError\u001b[0m                                 Traceback (most recent call last)",
      "Cell \u001b[1;32mIn[33], line 1\u001b[0m\n\u001b[1;32m----> 1\u001b[0m \u001b[38;5;28;01mclass\u001b[39;00m \u001b[38;5;21;01mExp\u001b[39;00m(Node):\n\u001b[0;32m      2\u001b[0m     \u001b[38;5;28;01mdef\u001b[39;00m \u001b[38;5;21mforward\u001b[39m(\u001b[38;5;28mself\u001b[39m, x):\n\u001b[0;32m      3\u001b[0m         \u001b[38;5;28;01mreturn\u001b[39;00m np\u001b[38;5;241m.\u001b[39mexp(x)\n",
      "\u001b[1;31mNameError\u001b[0m: name 'Node' is not defined"
     ]
    }
   ],
   "source": [
    "class Exp(Node):\n",
    "    def forward(self, x):\n",
    "        return np.exp(x)\n",
    "\n",
    "    def backward(self, grad):\n",
    "        x = self.cache[0]\n",
    "        return np.exp(x) * grad\n",
    "\n",
    "class Sum(Node):\n",
    "    def forward(self, x):\n",
    "        return np.sum(x, axis=-1).reshape(-1,1)\n",
    "\n",
    "    def backward(self, grad):\n",
    "        x = self.cache\n",
    "\n",
    "class Pow(Node):\n",
    "    def forward(self, x, exponent):\n",
    "        return x ** exponent\n",
    "\n",
    "    def backward(self, grad):\n",
    "        x, exponent = self.cache\n",
    "        return grad * exponent * x  ** (exponent - 1), 1\n",
    "\n",
    "class Multiply(Node):\n",
    "    def forward(self, x, y):\n",
    "        return x * y\n",
    "    def backward(self, grad):\n",
    "        x, y = self.cache\n",
    "        return grad * y, grad * x"
   ]
  }
 ],
 "metadata": {
  "kernelspec": {
   "display_name": "Python 3 (ipykernel)",
   "language": "python",
   "name": "python3"
  },
  "language_info": {
   "codemirror_mode": {
    "name": "ipython",
    "version": 3
   },
   "file_extension": ".py",
   "mimetype": "text/x-python",
   "name": "python",
   "nbconvert_exporter": "python",
   "pygments_lexer": "ipython3",
   "version": "3.11.7"
  }
 },
 "nbformat": 4,
 "nbformat_minor": 5
}
